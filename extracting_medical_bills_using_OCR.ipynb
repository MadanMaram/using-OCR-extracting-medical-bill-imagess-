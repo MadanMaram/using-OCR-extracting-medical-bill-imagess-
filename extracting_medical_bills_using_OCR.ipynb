{
  "nbformat": 4,
  "nbformat_minor": 0,
  "metadata": {
    "colab": {
      "name": "extracting medical bills using OCR.ipynb",
      "provenance": [],
      "collapsed_sections": [],
      "authorship_tag": "ABX9TyN+HlSDZigngW5oZFa4gPuw",
      "include_colab_link": true
    },
    "kernelspec": {
      "name": "python3",
      "display_name": "Python 3"
    },
    "accelerator": "GPU"
  },
  "cells": [
    {
      "cell_type": "markdown",
      "metadata": {
        "id": "view-in-github",
        "colab_type": "text"
      },
      "source": [
        "<a href=\"https://colab.research.google.com/github/MadanMaram/using-OCR-extracting-medical-bill-imagess-/blob/master/extracting_medical_bills_using_OCR.ipynb\" target=\"_parent\"><img src=\"https://colab.research.google.com/assets/colab-badge.svg\" alt=\"Open In Colab\"/></a>"
      ]
    },
    {
      "cell_type": "markdown",
      "metadata": {
        "id": "c47ipiMq4QH9",
        "colab_type": "text"
      },
      "source": [
        " ## extracting the data of medical presciption bills using OCR"
      ]
    },
    {
      "cell_type": "markdown",
      "metadata": {
        "id": "e5Zfl6vdaqog",
        "colab_type": "text"
      },
      "source": [
        " Optical character recognition is technology that converts images of typed or handwritten text, such as in a scanned document, to computer text that can be selected, searched and copied."
      ]
    },
    {
      "cell_type": "code",
      "metadata": {
        "id": "NaBQ1yYZY8j3",
        "colab_type": "code",
        "colab": {
          "base_uri": "https://localhost:8080/",
          "height": 161
        },
        "outputId": "640a178a-aefc-4001-f052-5d297adabc3f"
      },
      "source": [
        "!apt-get install ocrmypdf -q"
      ],
      "execution_count": null,
      "outputs": [
        {
          "output_type": "stream",
          "text": [
            "Reading package lists...\n",
            "Building dependency tree...\n",
            "Reading state information...\n",
            "ocrmypdf is already the newest version (6.1.2-1ubuntu1.1).\n",
            "The following package was automatically installed and is no longer required:\n",
            "  libnvidia-common-440\n",
            "Use 'apt autoremove' to remove it.\n",
            "0 upgraded, 0 newly installed, 0 to remove and 39 not upgraded.\n"
          ],
          "name": "stdout"
        }
      ]
    },
    {
      "cell_type": "code",
      "metadata": {
        "id": "OS7toBguZUJ1",
        "colab_type": "code",
        "colab": {
          "base_uri": "https://localhost:8080/",
          "height": 89
        },
        "outputId": "22fcf203-07cc-4bca-9697-5cce4f7d9a09"
      },
      "source": [
        "!pip install pdfplumber -q"
      ],
      "execution_count": null,
      "outputs": [
        {
          "output_type": "stream",
          "text": [
            "\u001b[K     |████████████████████████████████| 5.6MB 6.3MB/s \n",
            "\u001b[K     |████████████████████████████████| 133kB 41.1MB/s \n",
            "\u001b[K     |████████████████████████████████| 13.7MB 237kB/s \n",
            "\u001b[?25h  Building wheel for pdfplumber (setup.py) ... \u001b[?25l\u001b[?25hdone\n"
          ],
          "name": "stdout"
        }
      ]
    },
    {
      "cell_type": "code",
      "metadata": {
        "id": "I4UI9-MpZT8m",
        "colab_type": "code",
        "colab": {}
      },
      "source": [
        "import os\n",
        "import requests\n",
        "import pdfplumber"
      ],
      "execution_count": null,
      "outputs": []
    },
    {
      "cell_type": "code",
      "metadata": {
        "id": "vooBNEFCZTkv",
        "colab_type": "code",
        "colab": {}
      },
      "source": [
        "medicalP_bill = '/content/medical-converted.pdf'\n",
        "#medicalP_bill_pdf = download_file(medicalP_bill)"
      ],
      "execution_count": null,
      "outputs": []
    },
    {
      "cell_type": "code",
      "metadata": {
        "id": "S6VoqFtyZTfv",
        "colab_type": "code",
        "colab": {
          "base_uri": "https://localhost:8080/",
          "height": 35
        },
        "outputId": "4364fb7d-395b-414f-9123-8163cc608dbe"
      },
      "source": [
        "medicalP_bill"
      ],
      "execution_count": null,
      "outputs": [
        {
          "output_type": "execute_result",
          "data": {
            "application/vnd.google.colaboratory.intrinsic+json": {
              "type": "string"
            },
            "text/plain": [
              "'/content/medical-converted.pdf'"
            ]
          },
          "metadata": {
            "tags": []
          },
          "execution_count": 53
        }
      ]
    },
    {
      "cell_type": "code",
      "metadata": {
        "id": "K45h9qoXxf3H",
        "colab_type": "code",
        "colab": {}
      },
      "source": [
        ""
      ],
      "execution_count": null,
      "outputs": []
    },
    {
      "cell_type": "code",
      "metadata": {
        "id": "P6w1tU1PZTdL",
        "colab_type": "code",
        "colab": {
          "base_uri": "https://localhost:8080/",
          "height": 35
        },
        "outputId": "83c35135-0f56-4dba-a2a3-4d5b4f8d6267"
      },
      "source": [
        "with pdfplumber.open(medicalP_bill) as pdf:\n",
        "    page = pdf.pages[0]\n",
        "    text = page.extract_text()\n",
        "    print(text)"
      ],
      "execution_count": null,
      "outputs": [
        {
          "output_type": "stream",
          "text": [
            "None\n"
          ],
          "name": "stdout"
        }
      ]
    },
    {
      "cell_type": "code",
      "metadata": {
        "id": "FwpvNkFSj-4n",
        "colab_type": "code",
        "colab": {
          "base_uri": "https://localhost:8080/",
          "height": 35
        },
        "outputId": "8e44a07a-be1e-4532-c966-1e2302dc9a0b"
      },
      "source": [
        "os.system(f'ocrmypdf {medicalP_bill} output.pdf')"
      ],
      "execution_count": null,
      "outputs": [
        {
          "output_type": "execute_result",
          "data": {
            "text/plain": [
              "0"
            ]
          },
          "metadata": {
            "tags": []
          },
          "execution_count": 55
        }
      ]
    },
    {
      "cell_type": "code",
      "metadata": {
        "id": "c78dVhw4ncd8",
        "colab_type": "code",
        "colab": {
          "base_uri": "https://localhost:8080/",
          "height": 827
        },
        "outputId": "dc2be1f4-830b-4fa5-f1bb-7d4ad46805f3"
      },
      "source": [
        "with pdfplumber.open('output.pdf') as pdf:\n",
        "    page = pdf.pages[0]\n",
        "    text = page.extract_text(x_tolerance=2)\n",
        "    print(text)"
      ],
      "execution_count": null,
      "outputs": [
        {
          "output_type": "stream",
          "text": [
            "RAMESH\n",
            "HOSPITALS\n",
            "eee\n",
            "DEPARTMENT OF CARDIOLOGY\n",
            "Wienke 7 Wr RARESNGABU PINAPAOA Tee Sex 1 30YOae\n",
            " \n",
            "omvoate ——; Atay-2019 01:21 0H ‘une Gv-190500689\n",
            "Sample Date; 11Mey2019 1:21 PH ‘mo ocss90so0261\n",
            "Report Date 11-May2039 02:13 98 Result No; RESI90508266\n",
            " \n",
            "  fet By DRNAGARUNA GOTTIPAT MBBS, MOQHEDICINE) 8 Org.Name ESI ENPLOVEESSTATEINSURANCE\n",
            " \n",
            "Breanoiovooy specail\n",
            " CARDIOGRAPHY\n",
            "M-MODE MEASUREMENTS :\n",
            "20 2éseme\n",
            "eu atone @\n",
            "1vs(0) | o.61ems\n",
            "Lvewio) osiens\n",
            "Lvo(o) s97ens\n",
            "Lvo«s) sens\n",
            "wer 20% approx —\n",
            "fess\n",
            "esv\n",
            "errantvaLve oman\n",
            "AORTIC VALVE: NORMAL\n",
            "PULMONARY VALVE noma\n",
            "> reusevate Nommat\n",
            "Leer araaM onareD e\n",
            "sant arrau| omwat\n",
            "err venraacue DILATED,POOR CoWTRACTIUTY\n",
            "|\n",
            "| CARDIOLOGIST\n",
            "Verifea By Approved By Dlapatened oy :\n",
            "ge Lot3\n",
            " \n",
            "Dr.Ramesh Cardiac & Multispeciality Hospital Pvt. Ltd.\n",
            "Ricccnacnpatnee g| arments V| seennrsvanaasntse cina | yeonmsseea nares| SBiaob2o4n22 Ameo\n",
            "‘ee n Sf come | tps Beart,\n",
            "ENacme | Sows [SEERA | Bama\n",
            "fer ccnceenazeems Fx OmEDETI\n",
            "woeramestnoeptscom ecenaseen\n",
            "nogramesthosplsiscom ___waesemastnoepmabows em er\n",
            " \n",
            "       \n"
          ],
          "name": "stdout"
        }
      ]
    },
    {
      "cell_type": "code",
      "metadata": {
        "id": "ljFGaAqFnjbZ",
        "colab_type": "code",
        "colab": {}
      },
      "source": [
        "lines = text.split('\\n')"
      ],
      "execution_count": null,
      "outputs": []
    },
    {
      "cell_type": "code",
      "metadata": {
        "id": "YIzDw-5qnpt2",
        "colab_type": "code",
        "colab": {
          "base_uri": "https://localhost:8080/",
          "height": 827
        },
        "outputId": "819ff677-f1b6-41e0-e1a8-1bf727ddeb29"
      },
      "source": [
        "lines"
      ],
      "execution_count": null,
      "outputs": [
        {
          "output_type": "execute_result",
          "data": {
            "text/plain": [
              "['RAMESH',\n",
              " 'HOSPITALS',\n",
              " 'eee',\n",
              " 'DEPARTMENT OF CARDIOLOGY',\n",
              " 'Wienke 7 Wr RARESNGABU PINAPAOA Tee Sex 1 30YOae',\n",
              " ' ',\n",
              " 'omvoate ——; Atay-2019 01:21 0H ‘une Gv-190500689',\n",
              " 'Sample Date; 11Mey2019 1:21 PH ‘mo ocss90so0261',\n",
              " 'Report Date 11-May2039 02:13 98 Result No; RESI90508266',\n",
              " ' ',\n",
              " '  fet By DRNAGARUNA GOTTIPAT MBBS, MOQHEDICINE) 8 Org.Name ESI ENPLOVEESSTATEINSURANCE',\n",
              " ' ',\n",
              " 'Breanoiovooy specail',\n",
              " ' CARDIOGRAPHY',\n",
              " 'M-MODE MEASUREMENTS :',\n",
              " '20 2éseme',\n",
              " 'eu atone @',\n",
              " '1vs(0) | o.61ems',\n",
              " 'Lvewio) osiens',\n",
              " 'Lvo(o) s97ens',\n",
              " 'Lvo«s) sens',\n",
              " 'wer 20% approx —',\n",
              " 'fess',\n",
              " 'esv',\n",
              " 'errantvaLve oman',\n",
              " 'AORTIC VALVE: NORMAL',\n",
              " 'PULMONARY VALVE noma',\n",
              " '> reusevate Nommat',\n",
              " 'Leer araaM onareD e',\n",
              " 'sant arrau| omwat',\n",
              " 'err venraacue DILATED,POOR CoWTRACTIUTY',\n",
              " '|',\n",
              " '| CARDIOLOGIST',\n",
              " 'Verifea By Approved By Dlapatened oy :',\n",
              " 'ge Lot3',\n",
              " ' ',\n",
              " 'Dr.Ramesh Cardiac & Multispeciality Hospital Pvt. Ltd.',\n",
              " 'Ricccnacnpatnee g| arments V| seennrsvanaasntse cina | yeonmsseea nares| SBiaob2o4n22 Ameo',\n",
              " '‘ee n Sf come | tps Beart,',\n",
              " 'ENacme | Sows [SEERA | Bama',\n",
              " 'fer ccnceenazeems Fx OmEDETI',\n",
              " 'woeramestnoeptscom ecenaseen',\n",
              " 'nogramesthosplsiscom ___waesemastnoepmabows em er',\n",
              " ' ',\n",
              " '       ']"
            ]
          },
          "metadata": {
            "tags": []
          },
          "execution_count": 59
        }
      ]
    },
    {
      "cell_type": "code",
      "metadata": {
        "id": "t5aP-Gmmnsk6",
        "colab_type": "code",
        "colab": {}
      },
      "source": [
        "import re"
      ],
      "execution_count": null,
      "outputs": []
    },
    {
      "cell_type": "code",
      "metadata": {
        "id": "joyAezLYnzPH",
        "colab_type": "code",
        "colab": {}
      },
      "source": [
        "amt_re = re.compile(r'\\.\\d\\d$')"
      ],
      "execution_count": null,
      "outputs": []
    },
    {
      "cell_type": "code",
      "metadata": {
        "id": "koQ8blHvp56u",
        "colab_type": "code",
        "colab": {}
      },
      "source": [
        "bill_name = 0\n",
        "\n",
        "for line in lines:\n",
        "    if 'Patient Name' in line:\n",
        "        break\n",
        "    if amt_re.search(line):\n",
        "        subt += float(line.split()[-1].replace(',', '').replace('$', ''))"
      ],
      "execution_count": null,
      "outputs": []
    },
    {
      "cell_type": "code",
      "metadata": {
        "id": "VNHL80AkqHIt",
        "colab_type": "code",
        "colab": {
          "base_uri": "https://localhost:8080/",
          "height": 35
        },
        "outputId": "4dc04aa2-f45c-46e5-f22c-2ce44af7d6da"
      },
      "source": [
        "bill_name"
      ],
      "execution_count": null,
      "outputs": [
        {
          "output_type": "execute_result",
          "data": {
            "text/plain": [
              "0"
            ]
          },
          "metadata": {
            "tags": []
          },
          "execution_count": 63
        }
      ]
    },
    {
      "cell_type": "code",
      "metadata": {
        "id": "D-wJRb78qJl3",
        "colab_type": "code",
        "colab": {
          "base_uri": "https://localhost:8080/",
          "height": 827
        },
        "outputId": "a217e12f-535d-4900-d264-6f5fdd76a998"
      },
      "source": [
        "lines"
      ],
      "execution_count": null,
      "outputs": [
        {
          "output_type": "execute_result",
          "data": {
            "text/plain": [
              "['RAMESH',\n",
              " 'HOSPITALS',\n",
              " 'eee',\n",
              " 'DEPARTMENT OF CARDIOLOGY',\n",
              " 'Wienke 7 Wr RARESNGABU PINAPAOA Tee Sex 1 30YOae',\n",
              " ' ',\n",
              " 'omvoate ——; Atay-2019 01:21 0H ‘une Gv-190500689',\n",
              " 'Sample Date; 11Mey2019 1:21 PH ‘mo ocss90so0261',\n",
              " 'Report Date 11-May2039 02:13 98 Result No; RESI90508266',\n",
              " ' ',\n",
              " '  fet By DRNAGARUNA GOTTIPAT MBBS, MOQHEDICINE) 8 Org.Name ESI ENPLOVEESSTATEINSURANCE',\n",
              " ' ',\n",
              " 'Breanoiovooy specail',\n",
              " ' CARDIOGRAPHY',\n",
              " 'M-MODE MEASUREMENTS :',\n",
              " '20 2éseme',\n",
              " 'eu atone @',\n",
              " '1vs(0) | o.61ems',\n",
              " 'Lvewio) osiens',\n",
              " 'Lvo(o) s97ens',\n",
              " 'Lvo«s) sens',\n",
              " 'wer 20% approx —',\n",
              " 'fess',\n",
              " 'esv',\n",
              " 'errantvaLve oman',\n",
              " 'AORTIC VALVE: NORMAL',\n",
              " 'PULMONARY VALVE noma',\n",
              " '> reusevate Nommat',\n",
              " 'Leer araaM onareD e',\n",
              " 'sant arrau| omwat',\n",
              " 'err venraacue DILATED,POOR CoWTRACTIUTY',\n",
              " '|',\n",
              " '| CARDIOLOGIST',\n",
              " 'Verifea By Approved By Dlapatened oy :',\n",
              " 'ge Lot3',\n",
              " ' ',\n",
              " 'Dr.Ramesh Cardiac & Multispeciality Hospital Pvt. Ltd.',\n",
              " 'Ricccnacnpatnee g| arments V| seennrsvanaasntse cina | yeonmsseea nares| SBiaob2o4n22 Ameo',\n",
              " '‘ee n Sf come | tps Beart,',\n",
              " 'ENacme | Sows [SEERA | Bama',\n",
              " 'fer ccnceenazeems Fx OmEDETI',\n",
              " 'woeramestnoeptscom ecenaseen',\n",
              " 'nogramesthosplsiscom ___waesemastnoepmabows em er',\n",
              " ' ',\n",
              " '       ']"
            ]
          },
          "metadata": {
            "tags": []
          },
          "execution_count": 64
        }
      ]
    },
    {
      "cell_type": "code",
      "metadata": {
        "id": "9gycNWq4CJgR",
        "colab_type": "code",
        "colab": {
          "base_uri": "https://localhost:8080/",
          "height": 34
        },
        "outputId": "b7e26058-7b9f-4c4e-e01a-a70a8152aadc"
      },
      "source": [
        "print('')"
      ],
      "execution_count": null,
      "outputs": [
        {
          "output_type": "stream",
          "text": [
            "\n"
          ],
          "name": "stdout"
        }
      ]
    },
    {
      "cell_type": "markdown",
      "metadata": {
        "id": "Rbih08WNCIru",
        "colab_type": "text"
      },
      "source": [
        ""
      ]
    }
  ]
}